{
 "cells": [
  {
   "cell_type": "markdown",
   "id": "10dea22c",
   "metadata": {},
   "source": [
    "This project uses the small MovieLens data set, to create a movie recommendation system that allows users to input a movie they like (from within the data set) and recommends ten other movies for them to watch. This project uses Python. "
   ]
  },
  {
   "cell_type": "code",
   "execution_count": 1,
   "id": "0d7fa87d",
   "metadata": {},
   "outputs": [
    {
     "name": "stderr",
     "output_type": "stream",
     "text": [
      "C:\\Users\\mksis\\anaconda3\\lib\\site-packages\\scipy\\__init__.py:155: UserWarning: A NumPy version >=1.18.5 and <1.25.0 is required for this version of SciPy (detected version 1.26.4\n",
      "  warnings.warn(f\"A NumPy version >={np_minversion} and <{np_maxversion}\"\n"
     ]
    }
   ],
   "source": [
    "#Import libraries\n",
    "import pandas as pd\n",
    "import numpy as np\n",
    "import matplotlib.pyplot as plt\n",
    "\n",
    "import re\n",
    "\n",
    "#Import libraries for text frequency vectorization\n",
    "from sklearn.feature_extraction.text import TfidfVectorizer\n",
    "from sklearn.metrics.pairwise import cosine_similarity\n",
    "\n",
    "#Import libraries to create and display text box widget\n",
    "import ipywidgets as widgets\n",
    "from IPython.display import display\n",
    "\n",
    "import warnings\n",
    "warnings.filterwarnings('ignore')"
   ]
  },
  {
   "cell_type": "code",
   "execution_count": 2,
   "id": "cef534f1",
   "metadata": {},
   "outputs": [
    {
     "data": {
      "text/html": [
       "<div>\n",
       "<style scoped>\n",
       "    .dataframe tbody tr th:only-of-type {\n",
       "        vertical-align: middle;\n",
       "    }\n",
       "\n",
       "    .dataframe tbody tr th {\n",
       "        vertical-align: top;\n",
       "    }\n",
       "\n",
       "    .dataframe thead th {\n",
       "        text-align: right;\n",
       "    }\n",
       "</style>\n",
       "<table border=\"1\" class=\"dataframe\">\n",
       "  <thead>\n",
       "    <tr style=\"text-align: right;\">\n",
       "      <th></th>\n",
       "      <th>movieId</th>\n",
       "      <th>title</th>\n",
       "      <th>genres</th>\n",
       "    </tr>\n",
       "  </thead>\n",
       "  <tbody>\n",
       "    <tr>\n",
       "      <th>0</th>\n",
       "      <td>1</td>\n",
       "      <td>Toy Story (1995)</td>\n",
       "      <td>Adventure|Animation|Children|Comedy|Fantasy</td>\n",
       "    </tr>\n",
       "    <tr>\n",
       "      <th>1</th>\n",
       "      <td>2</td>\n",
       "      <td>Jumanji (1995)</td>\n",
       "      <td>Adventure|Children|Fantasy</td>\n",
       "    </tr>\n",
       "    <tr>\n",
       "      <th>2</th>\n",
       "      <td>3</td>\n",
       "      <td>Grumpier Old Men (1995)</td>\n",
       "      <td>Comedy|Romance</td>\n",
       "    </tr>\n",
       "  </tbody>\n",
       "</table>\n",
       "</div>"
      ],
      "text/plain": [
       "   movieId                    title  \\\n",
       "0        1         Toy Story (1995)   \n",
       "1        2           Jumanji (1995)   \n",
       "2        3  Grumpier Old Men (1995)   \n",
       "\n",
       "                                        genres  \n",
       "0  Adventure|Animation|Children|Comedy|Fantasy  \n",
       "1                   Adventure|Children|Fantasy  \n",
       "2                               Comedy|Romance  "
      ]
     },
     "execution_count": 2,
     "metadata": {},
     "output_type": "execute_result"
    }
   ],
   "source": [
    "# Import movie data frame from https://grouplens.org/datasets/movielens/\n",
    "movies = pd.read_csv('/Users/mksis/Documents/Data Science/DS630 Predictive Analytics/Data Sets/movies/movies.csv')\n",
    "movies.head(3)"
   ]
  },
  {
   "cell_type": "code",
   "execution_count": 3,
   "id": "63026a47",
   "metadata": {},
   "outputs": [
    {
     "data": {
      "text/plain": [
       "(62423, 3)"
      ]
     },
     "execution_count": 3,
     "metadata": {},
     "output_type": "execute_result"
    }
   ],
   "source": [
    "#Viewing shape of the movies dataframe\n",
    "movies.shape"
   ]
  },
  {
   "cell_type": "code",
   "execution_count": 4,
   "id": "0d023fb5",
   "metadata": {},
   "outputs": [
    {
     "data": {
      "text/html": [
       "<div>\n",
       "<style scoped>\n",
       "    .dataframe tbody tr th:only-of-type {\n",
       "        vertical-align: middle;\n",
       "    }\n",
       "\n",
       "    .dataframe tbody tr th {\n",
       "        vertical-align: top;\n",
       "    }\n",
       "\n",
       "    .dataframe thead th {\n",
       "        text-align: right;\n",
       "    }\n",
       "</style>\n",
       "<table border=\"1\" class=\"dataframe\">\n",
       "  <thead>\n",
       "    <tr style=\"text-align: right;\">\n",
       "      <th></th>\n",
       "      <th>userId</th>\n",
       "      <th>movieId</th>\n",
       "      <th>rating</th>\n",
       "      <th>timestamp</th>\n",
       "    </tr>\n",
       "  </thead>\n",
       "  <tbody>\n",
       "    <tr>\n",
       "      <th>0</th>\n",
       "      <td>1</td>\n",
       "      <td>296</td>\n",
       "      <td>5.0</td>\n",
       "      <td>1147880044</td>\n",
       "    </tr>\n",
       "    <tr>\n",
       "      <th>1</th>\n",
       "      <td>1</td>\n",
       "      <td>306</td>\n",
       "      <td>3.5</td>\n",
       "      <td>1147868817</td>\n",
       "    </tr>\n",
       "    <tr>\n",
       "      <th>2</th>\n",
       "      <td>1</td>\n",
       "      <td>307</td>\n",
       "      <td>5.0</td>\n",
       "      <td>1147868828</td>\n",
       "    </tr>\n",
       "  </tbody>\n",
       "</table>\n",
       "</div>"
      ],
      "text/plain": [
       "   userId  movieId  rating   timestamp\n",
       "0       1      296     5.0  1147880044\n",
       "1       1      306     3.5  1147868817\n",
       "2       1      307     5.0  1147868828"
      ]
     },
     "execution_count": 4,
     "metadata": {},
     "output_type": "execute_result"
    }
   ],
   "source": [
    "#Import ratings data from https://grouplens.org/datasets/movielens/\n",
    "ratings = pd.read_csv('/Users/mksis/Documents/Data Science/DS630 Predictive Analytics/Data Sets/movies/ratings.csv')\n",
    "ratings.head(3)"
   ]
  },
  {
   "cell_type": "code",
   "execution_count": 5,
   "id": "1bb82a16",
   "metadata": {},
   "outputs": [
    {
     "data": {
      "text/plain": [
       "(25000095, 4)"
      ]
     },
     "execution_count": 5,
     "metadata": {},
     "output_type": "execute_result"
    }
   ],
   "source": [
    "#Viewing shape of the ratings dataframe\n",
    "ratings.shape"
   ]
  },
  {
   "cell_type": "code",
   "execution_count": 6,
   "id": "5d425b06",
   "metadata": {},
   "outputs": [
    {
     "data": {
      "text/plain": [
       "userId         int64\n",
       "movieId        int64\n",
       "rating       float64\n",
       "timestamp      int64\n",
       "dtype: object"
      ]
     },
     "execution_count": 6,
     "metadata": {},
     "output_type": "execute_result"
    }
   ],
   "source": [
    "ratings.dtypes"
   ]
  },
  {
   "cell_type": "code",
   "execution_count": 7,
   "id": "a29bd3e8",
   "metadata": {},
   "outputs": [
    {
     "data": {
      "text/plain": [
       "movieId    0\n",
       "title      0\n",
       "genres     0\n",
       "dtype: int64"
      ]
     },
     "execution_count": 7,
     "metadata": {},
     "output_type": "execute_result"
    }
   ],
   "source": [
    "#Finding null values in movies df\n",
    "movies.isnull().sum()"
   ]
  },
  {
   "cell_type": "code",
   "execution_count": 8,
   "id": "253a6d8f",
   "metadata": {},
   "outputs": [
    {
     "data": {
      "text/plain": [
       "userId       0\n",
       "movieId      0\n",
       "rating       0\n",
       "timestamp    0\n",
       "dtype: int64"
      ]
     },
     "execution_count": 8,
     "metadata": {},
     "output_type": "execute_result"
    }
   ],
   "source": [
    "#Finding null values in ratings df\n",
    "ratings.isnull().sum()"
   ]
  },
  {
   "cell_type": "code",
   "execution_count": 9,
   "id": "4e2c7930",
   "metadata": {},
   "outputs": [
    {
     "name": "stdout",
     "output_type": "stream",
     "text": [
      "Number of movies in movies data set:  62423\n"
     ]
    }
   ],
   "source": [
    "#Finding statistics of the movie data set\n",
    "movie_num = len(movies['movieId'].unique())\n",
    "\n",
    "print(\"Number of movies in movies data set: \", movie_num)"
   ]
  },
  {
   "cell_type": "code",
   "execution_count": 10,
   "id": "fcbebb50",
   "metadata": {},
   "outputs": [
    {
     "name": "stdout",
     "output_type": "stream",
     "text": [
      "Number of movie ratings:  25000095\n",
      "Number of movies in rating data set:  59047\n",
      "Number of movie ratings:  162541\n"
     ]
    }
   ],
   "source": [
    "#Finding statistics of the ratings data set\n",
    "rating_num = len(ratings['movieId'])\n",
    "rating_movies = len(ratings['movieId'].unique())\n",
    "rating_users = len(ratings['userId'].unique())\n",
    "print('Number of movie ratings: ', rating_num)\n",
    "print('Number of movies in rating data set: ', rating_movies)\n",
    "print('Number of movie ratings: ', rating_users)"
   ]
  },
  {
   "cell_type": "code",
   "execution_count": 11,
   "id": "6758db8d",
   "metadata": {},
   "outputs": [
    {
     "data": {
      "text/html": [
       "<div>\n",
       "<style scoped>\n",
       "    .dataframe tbody tr th:only-of-type {\n",
       "        vertical-align: middle;\n",
       "    }\n",
       "\n",
       "    .dataframe tbody tr th {\n",
       "        vertical-align: top;\n",
       "    }\n",
       "\n",
       "    .dataframe thead th {\n",
       "        text-align: right;\n",
       "    }\n",
       "</style>\n",
       "<table border=\"1\" class=\"dataframe\">\n",
       "  <thead>\n",
       "    <tr style=\"text-align: right;\">\n",
       "      <th></th>\n",
       "      <th>rating</th>\n",
       "    </tr>\n",
       "    <tr>\n",
       "      <th>movieId</th>\n",
       "      <th></th>\n",
       "    </tr>\n",
       "  </thead>\n",
       "  <tbody>\n",
       "    <tr>\n",
       "      <th>1</th>\n",
       "      <td>3.893708</td>\n",
       "    </tr>\n",
       "    <tr>\n",
       "      <th>2</th>\n",
       "      <td>3.251527</td>\n",
       "    </tr>\n",
       "    <tr>\n",
       "      <th>3</th>\n",
       "      <td>3.142028</td>\n",
       "    </tr>\n",
       "    <tr>\n",
       "      <th>4</th>\n",
       "      <td>2.853547</td>\n",
       "    </tr>\n",
       "    <tr>\n",
       "      <th>5</th>\n",
       "      <td>3.058434</td>\n",
       "    </tr>\n",
       "    <tr>\n",
       "      <th>...</th>\n",
       "      <td>...</td>\n",
       "    </tr>\n",
       "    <tr>\n",
       "      <th>209157</th>\n",
       "      <td>1.500000</td>\n",
       "    </tr>\n",
       "    <tr>\n",
       "      <th>209159</th>\n",
       "      <td>3.000000</td>\n",
       "    </tr>\n",
       "    <tr>\n",
       "      <th>209163</th>\n",
       "      <td>4.500000</td>\n",
       "    </tr>\n",
       "    <tr>\n",
       "      <th>209169</th>\n",
       "      <td>3.000000</td>\n",
       "    </tr>\n",
       "    <tr>\n",
       "      <th>209171</th>\n",
       "      <td>3.000000</td>\n",
       "    </tr>\n",
       "  </tbody>\n",
       "</table>\n",
       "<p>59047 rows × 1 columns</p>\n",
       "</div>"
      ],
      "text/plain": [
       "           rating\n",
       "movieId          \n",
       "1        3.893708\n",
       "2        3.251527\n",
       "3        3.142028\n",
       "4        2.853547\n",
       "5        3.058434\n",
       "...           ...\n",
       "209157   1.500000\n",
       "209159   3.000000\n",
       "209163   4.500000\n",
       "209169   3.000000\n",
       "209171   3.000000\n",
       "\n",
       "[59047 rows x 1 columns]"
      ]
     },
     "execution_count": 11,
     "metadata": {},
     "output_type": "execute_result"
    }
   ],
   "source": [
    "#Average movie rating\n",
    "mean_rating = ratings.groupby('movieId')[['rating']].mean()\n",
    "mean_rating"
   ]
  },
  {
   "cell_type": "code",
   "execution_count": 12,
   "id": "435b27fa",
   "metadata": {},
   "outputs": [
    {
     "data": {
      "text/html": [
       "<div>\n",
       "<style scoped>\n",
       "    .dataframe tbody tr th:only-of-type {\n",
       "        vertical-align: middle;\n",
       "    }\n",
       "\n",
       "    .dataframe tbody tr th {\n",
       "        vertical-align: top;\n",
       "    }\n",
       "\n",
       "    .dataframe thead th {\n",
       "        text-align: right;\n",
       "    }\n",
       "</style>\n",
       "<table border=\"1\" class=\"dataframe\">\n",
       "  <thead>\n",
       "    <tr style=\"text-align: right;\">\n",
       "      <th></th>\n",
       "      <th>movieId</th>\n",
       "      <th>title</th>\n",
       "      <th>genres</th>\n",
       "    </tr>\n",
       "  </thead>\n",
       "  <tbody>\n",
       "    <tr>\n",
       "      <th>9416</th>\n",
       "      <td>27914</td>\n",
       "      <td>Hijacking Catastrophe: 9/11, Fear &amp; the Sellin...</td>\n",
       "      <td>Documentary</td>\n",
       "    </tr>\n",
       "  </tbody>\n",
       "</table>\n",
       "</div>"
      ],
      "text/plain": [
       "      movieId                                              title       genres\n",
       "9416    27914  Hijacking Catastrophe: 9/11, Fear & the Sellin...  Documentary"
      ]
     },
     "execution_count": 12,
     "metadata": {},
     "output_type": "execute_result"
    }
   ],
   "source": [
    "#Highest rated movie\n",
    "highest_rated = mean_rating['rating'].idxmax()\n",
    "highest_rated = movies.loc[movies['movieId'] == highest_rated]\n",
    "highest_rated"
   ]
  },
  {
   "cell_type": "code",
   "execution_count": 13,
   "id": "3947d79f",
   "metadata": {},
   "outputs": [
    {
     "data": {
      "text/html": [
       "<div>\n",
       "<style scoped>\n",
       "    .dataframe tbody tr th:only-of-type {\n",
       "        vertical-align: middle;\n",
       "    }\n",
       "\n",
       "    .dataframe tbody tr th {\n",
       "        vertical-align: top;\n",
       "    }\n",
       "\n",
       "    .dataframe thead th {\n",
       "        text-align: right;\n",
       "    }\n",
       "</style>\n",
       "<table border=\"1\" class=\"dataframe\">\n",
       "  <thead>\n",
       "    <tr style=\"text-align: right;\">\n",
       "      <th></th>\n",
       "      <th>movieId</th>\n",
       "      <th>title</th>\n",
       "      <th>genres</th>\n",
       "    </tr>\n",
       "  </thead>\n",
       "  <tbody>\n",
       "    <tr>\n",
       "      <th>5693</th>\n",
       "      <td>5805</td>\n",
       "      <td>Besotted (2001)</td>\n",
       "      <td>Drama</td>\n",
       "    </tr>\n",
       "  </tbody>\n",
       "</table>\n",
       "</div>"
      ],
      "text/plain": [
       "      movieId            title genres\n",
       "5693     5805  Besotted (2001)  Drama"
      ]
     },
     "execution_count": 13,
     "metadata": {},
     "output_type": "execute_result"
    }
   ],
   "source": [
    "#Lowest rated movie\n",
    "lowest_rated = mean_rating['rating'].idxmin()\n",
    "lowest_rated = movies.loc[movies['movieId'] == lowest_rated]\n",
    "lowest_rated"
   ]
  },
  {
   "cell_type": "code",
   "execution_count": 14,
   "id": "e295dc5f",
   "metadata": {},
   "outputs": [],
   "source": [
    "#Create a function to clean the titles\n",
    "#This function removes any characters that are not letters, numbers, or spaces\n",
    "def clean_title(title):\n",
    "    title = re.sub(\"[^a-zA-Z0-9 ]\", \"\", title)\n",
    "    return title"
   ]
  },
  {
   "cell_type": "code",
   "execution_count": 15,
   "id": "20cdaec7",
   "metadata": {},
   "outputs": [
    {
     "data": {
      "text/html": [
       "<div>\n",
       "<style scoped>\n",
       "    .dataframe tbody tr th:only-of-type {\n",
       "        vertical-align: middle;\n",
       "    }\n",
       "\n",
       "    .dataframe tbody tr th {\n",
       "        vertical-align: top;\n",
       "    }\n",
       "\n",
       "    .dataframe thead th {\n",
       "        text-align: right;\n",
       "    }\n",
       "</style>\n",
       "<table border=\"1\" class=\"dataframe\">\n",
       "  <thead>\n",
       "    <tr style=\"text-align: right;\">\n",
       "      <th></th>\n",
       "      <th>movieId</th>\n",
       "      <th>title</th>\n",
       "      <th>genres</th>\n",
       "      <th>clean_title</th>\n",
       "    </tr>\n",
       "  </thead>\n",
       "  <tbody>\n",
       "    <tr>\n",
       "      <th>0</th>\n",
       "      <td>1</td>\n",
       "      <td>Toy Story (1995)</td>\n",
       "      <td>Adventure|Animation|Children|Comedy|Fantasy</td>\n",
       "      <td>Toy Story 1995</td>\n",
       "    </tr>\n",
       "    <tr>\n",
       "      <th>1</th>\n",
       "      <td>2</td>\n",
       "      <td>Jumanji (1995)</td>\n",
       "      <td>Adventure|Children|Fantasy</td>\n",
       "      <td>Jumanji 1995</td>\n",
       "    </tr>\n",
       "    <tr>\n",
       "      <th>2</th>\n",
       "      <td>3</td>\n",
       "      <td>Grumpier Old Men (1995)</td>\n",
       "      <td>Comedy|Romance</td>\n",
       "      <td>Grumpier Old Men 1995</td>\n",
       "    </tr>\n",
       "  </tbody>\n",
       "</table>\n",
       "</div>"
      ],
      "text/plain": [
       "   movieId                    title  \\\n",
       "0        1         Toy Story (1995)   \n",
       "1        2           Jumanji (1995)   \n",
       "2        3  Grumpier Old Men (1995)   \n",
       "\n",
       "                                        genres            clean_title  \n",
       "0  Adventure|Animation|Children|Comedy|Fantasy         Toy Story 1995  \n",
       "1                   Adventure|Children|Fantasy           Jumanji 1995  \n",
       "2                               Comedy|Romance  Grumpier Old Men 1995  "
      ]
     },
     "execution_count": 15,
     "metadata": {},
     "output_type": "execute_result"
    }
   ],
   "source": [
    "#Run the clean_title function\n",
    "#show the head of the movie dataframe\n",
    "movies['clean_title'] = movies['title'].apply(clean_title)\n",
    "movies.head(3)"
   ]
  },
  {
   "cell_type": "code",
   "execution_count": 16,
   "id": "c47725ee",
   "metadata": {},
   "outputs": [],
   "source": [
    "#Create a term frequency vector - this will help identify if there are similarities in the titles that are searched\n",
    "\n",
    "vectorizer = TfidfVectorizer(ngram_range=(1,2))\n",
    "\n",
    "tfidf = vectorizer.fit_transform(movies['clean_title'])"
   ]
  },
  {
   "cell_type": "code",
   "execution_count": 17,
   "id": "886163c9",
   "metadata": {},
   "outputs": [],
   "source": [
    "#Creating a search function\n",
    "\n",
    "def search(title):\n",
    "    #cleaning the title that was searched\n",
    "    title = clean_title(title) \n",
    "    #creating a matrix\n",
    "    query_vec = vectorizer.transform([title])\n",
    "    #creating variable of similarity by using the cosine_similarity() function and by using the text frequency matrix\n",
    "        #and the query vectorizer of the title\n",
    "    similarity = cosine_similarity(query_vec, tfidf).flatten()\n",
    "    #creating a numpy array with titles with similar titles\n",
    "    indices = np.argpartition(similarity, -5)[-5:]\n",
    "    results = movies.iloc[indices].iloc[::-1]\n",
    "    \n",
    "    return results"
   ]
  },
  {
   "cell_type": "code",
   "execution_count": 18,
   "id": "9821ab04",
   "metadata": {},
   "outputs": [],
   "source": [
    "#Creating a function that finds similar movies based on the movieId searched\n",
    "def find_similar_movies(movie_id):\n",
    "    \n",
    "    #creating similar users array\n",
    "    #similar_users takes the movieId column and matches it with the movie_id and then finds ratings\n",
    "    #from unique users that are above 4.\n",
    "    similar_users = ratings[(ratings['movieId'] == movie_id) & (ratings['rating'] > 4)]['userId'].unique()\n",
    "    #New similar_user_recs variable takes the value count of the similar_user_recs\n",
    "    #and divides it by the length (aka number) of similar_users\n",
    "    similar_user_recs = ratings[(ratings['userId'].isin(similar_users)) & (ratings['rating'] > 4)]['movieId']\n",
    "    similar_user_recs = similar_user_recs.value_counts() / len(similar_users)\n",
    "    similar_user_recs = similar_user_recs[similar_user_recs > .1]\n",
    "    \n",
    "    #Create all_users array\n",
    "    #This finds out how much all users in a data set liked certain movies\n",
    "    all_users = ratings[(ratings['movieId'].isin(similar_user_recs.index)) & (ratings['rating'] > 4)]\n",
    "    all_user_recs = all_users['movieId'].value_counts() / len(all_users['userId'].unique())\n",
    "    \n",
    "    #Finding the difference of recommendations from the similar_user_recs and all_user_recs\n",
    "    rec_percentages = pd.concat([similar_user_recs, all_user_recs], axis=1)\n",
    "    rec_percentages.columns = ['similar user recs', 'all user recs']\n",
    "    rec_percentages['score'] = rec_percentages['similar user recs'] / rec_percentages['all user recs']\n",
    "    rec_percentages = rec_percentages.sort_values('score', ascending=False)\n",
    "    #returns the top 10 movies and only showing the score, title, and genre\n",
    "    return rec_percentages.head(10).merge(movies, left_index=True, right_on = 'movieId')[['score', 'title', 'genres']]"
   ]
  },
  {
   "cell_type": "code",
   "execution_count": 19,
   "id": "5963cbd4",
   "metadata": {},
   "outputs": [
    {
     "data": {
      "application/vnd.jupyter.widget-view+json": {
       "model_id": "eb968696f72c4a52bfda89d1ca94a190",
       "version_major": 2,
       "version_minor": 0
      },
      "text/plain": [
       "Text(value='Input Title You Want To Find Similar Titles To', description='Movie Title:')"
      ]
     },
     "metadata": {},
     "output_type": "display_data"
    },
    {
     "data": {
      "application/vnd.jupyter.widget-view+json": {
       "model_id": "6a5168e7f6854f1da3b599feab35e2b0",
       "version_major": 2,
       "version_minor": 0
      },
      "text/plain": [
       "Output()"
      ]
     },
     "metadata": {},
     "output_type": "display_data"
    }
   ],
   "source": [
    "#Creating input box to type movie title you want to view similar movies to.\n",
    "movie_name_input = widgets.Text(\n",
    "    value='Input Title You Want To Find Similar Titles To',\n",
    "    description='Movie Title:',\n",
    "    disabled=False)\n",
    "recommendation_list = widgets.Output()\n",
    "\n",
    "#This function will make a recommendation list based on the name of the movie title entered\n",
    "def on_type(data):\n",
    "    with recommendation_list:\n",
    "        recommendation_list.clear_output()\n",
    "        title = data['new']\n",
    "        if len(title) > 5:\n",
    "            results = search(title)\n",
    "            movie_id = results.iloc[0]['movieId']\n",
    "            display(find_similar_movies(movie_id)) #Will display the results from the find_similar_movies function\n",
    "\n",
    "movie_name_input.observe(on_type, names='value')\n",
    "\n",
    "display(movie_name_input, recommendation_list)"
   ]
  },
  {
   "cell_type": "markdown",
   "id": "510bf4ac",
   "metadata": {},
   "source": [
    "### Write Up:\n",
    "First step was to import all the data frames - each csv file had different information about the movies. The movies dataframe had information on the movieId, the title, and the genres of the movies. The ratings dataframe had information on the userId, movieId, the rating, and the timestamp the rating was documented.\n",
    "\n",
    "After importing the two dataframes, I then did quick analysis to find the shape of the two dataframes, find the number of movies, the number of ratings, the number of unique users who rated movies, and the average movie rating. I then found the highest rated movie and the lowest rated movie. \n",
    "\n",
    "The next step was to clean the two dataframes. I looked to see if there was any null observations, neither dataframe had any null values. Next was to create a formula to clean the observations in the 'title' column in the df_movie file. This way I removed any characters that were not letters, numbers or spaces. \n",
    "\n",
    "Create Term Frequency with tfid vector based on the clean_title column of the movies dataframe. This term frequency will identify if there are similarities in the titles that are searched. The term frequency is used to rank the titles according to their relative significance.\n",
    "\n",
    "Next, I created a search function. This module received the movie title as an input, and then ran the clean_title function to remove uneccessary characters. Then the module created a matrix based on similar titles and then returned the results of the 10 closest results. \n",
    "\n",
    "Then I created a function that finds similar movies based on the movieId searched. This was done by creating an array of similar users this was done by finding users that rated movies in a similar manner, so any users that rated individual movies higer than a 4 [4.5 or 5] were then grouped into this similar users group. Then I created a similar users rec variable that finds ratings that are within the similar users array.  This was then used to find the count of similar user recs divided by the number of similar users and I then took the top 10% of those recommendations. Next, I created an all_users variable which finds out what all users thought about each movie. This all users recommendation variable was then used to find the difference of what similar users rated movies versus what all users rated those movies. And that recommendation difference was used to create a score that helped sort movies and only return the top 10 movies with the highest score. \n",
    "\n",
    "Lastly, I created a widget, this would be used for a user to input a movie that they liked, or a movie they wanted to see similar movies to. This was done by creating a movie name input variable wich used the widget function and you input the movie title into it. The recommendation list was the output of this widget function. The recommendation list is based on the title that was input into the text widget, and then the title search function that returns titles that are similar in text frequency matrix and then finds movies that have the highest recommendation score. The output is then the display of the 10 movies most closely related to the search. "
   ]
  }
 ],
 "metadata": {
  "kernelspec": {
   "display_name": "Python 3 (ipykernel)",
   "language": "python",
   "name": "python3"
  },
  "language_info": {
   "codemirror_mode": {
    "name": "ipython",
    "version": 3
   },
   "file_extension": ".py",
   "mimetype": "text/x-python",
   "name": "python",
   "nbconvert_exporter": "python",
   "pygments_lexer": "ipython3",
   "version": "3.9.13"
  }
 },
 "nbformat": 4,
 "nbformat_minor": 5
}
